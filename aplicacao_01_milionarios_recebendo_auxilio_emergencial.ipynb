{
 "cells": [
  {
   "cell_type": "markdown",
   "metadata": {},
   "source": [
    "### Objetivo\n",
    "Neste caderno vamos criar um código que verifica se pessoas com alto patrimônio estão recebendo o auxílio emergencial. É simples! Vamos, primeiramente, levantar os dados das declarações de bens feitas por candidatos nas eleições de 2020. Em seguida, selecionaremos os candidatos com patrimônio declarado acima de R$ 1 milhão. Aí usaremos a API do Portal da Transparência para verificar se eles estão entre os beneficiários do Coronavoucher."
   ]
  },
  {
   "cell_type": "markdown",
   "metadata": {},
   "source": [
    "### Pacotes utilizados"
   ]
  },
  {
   "cell_type": "code",
   "execution_count": 37,
   "metadata": {},
   "outputs": [],
   "source": [
    "import pandas as pd ### Pacote para análise e transformação de tabelas de dados\n",
    "import requests ### Pacote para requisição de dados na web\n",
    "import time ### Pacote para delimitar intervalo de tempo no looping\n"
   ]
  },
  {
   "cell_type": "markdown",
   "metadata": {},
   "source": [
    "### 1. Carregando dados do TSE"
   ]
  },
  {
   "cell_type": "markdown",
   "metadata": {},
   "source": [
    "##### -> Bens dos candidatos\n",
    "Fonte: https://cdn.tse.jus.br/estatistica/sead/odsele/bem_candidato/bem_candidato_2020.zip"
   ]
  },
  {
   "cell_type": "code",
   "execution_count": 38,
   "metadata": {},
   "outputs": [],
   "source": [
    "df_bens = pd.read_csv('../_dados/bem_candidato_2020_BRASIL.csv', encoding = 'latin1', sep = ';')"
   ]
  },
  {
   "cell_type": "code",
   "execution_count": 39,
   "metadata": {},
   "outputs": [
    {
     "name": "stdout",
     "output_type": "stream",
     "text": [
      "Colunas - df_bens: \n"
     ]
    },
    {
     "data": {
      "text/plain": [
       "Index(['DT_GERACAO', 'HH_GERACAO', 'ANO_ELEICAO', 'CD_TIPO_ELEICAO',\n",
       "       'NM_TIPO_ELEICAO', 'CD_ELEICAO', 'DS_ELEICAO', 'DT_ELEICAO', 'SG_UF',\n",
       "       'SG_UE', 'NM_UE', 'SQ_CANDIDATO', 'NR_ORDEM_CANDIDATO',\n",
       "       'CD_TIPO_BEM_CANDIDATO', 'DS_TIPO_BEM_CANDIDATO', 'DS_BEM_CANDIDATO',\n",
       "       'VR_BEM_CANDIDATO', 'DT_ULTIMA_ATUALIZACAO', 'HH_ULTIMA_ATUALIZACAO'],\n",
       "      dtype='object')"
      ]
     },
     "execution_count": 39,
     "metadata": {},
     "output_type": "execute_result"
    }
   ],
   "source": [
    "print('Colunas - df_bens: ')\n",
    "df_bens.columns"
   ]
  },
  {
   "cell_type": "markdown",
   "metadata": {},
   "source": [
    "##### -> Dados cadastrais dos candidatos\n",
    "Fonte: https://cdn.tse.jus.br/estatistica/sead/odsele/consulta_cand/consulta_cand_2020.zip"
   ]
  },
  {
   "cell_type": "code",
   "execution_count": 40,
   "metadata": {},
   "outputs": [],
   "source": [
    "df_cadastro = pd.read_csv('../_dados/consulta_cand_2020_BRASIL.csv', encoding = 'latin1', sep = ';')"
   ]
  },
  {
   "cell_type": "code",
   "execution_count": 41,
   "metadata": {},
   "outputs": [
    {
     "name": "stdout",
     "output_type": "stream",
     "text": [
      "Colunas - df_cadastro: \n"
     ]
    },
    {
     "data": {
      "text/plain": [
       "Index(['DT_GERACAO', 'HH_GERACAO', 'ANO_ELEICAO', 'CD_TIPO_ELEICAO',\n",
       "       'NM_TIPO_ELEICAO', 'NR_TURNO', 'CD_ELEICAO', 'DS_ELEICAO', 'DT_ELEICAO',\n",
       "       'TP_ABRANGENCIA', 'SG_UF', 'SG_UE', 'NM_UE', 'CD_CARGO', 'DS_CARGO',\n",
       "       'SQ_CANDIDATO', 'NR_CANDIDATO', 'NM_CANDIDATO', 'NM_URNA_CANDIDATO',\n",
       "       'NM_SOCIAL_CANDIDATO', 'NR_CPF_CANDIDATO', 'NM_EMAIL',\n",
       "       'CD_SITUACAO_CANDIDATURA', 'DS_SITUACAO_CANDIDATURA',\n",
       "       'CD_DETALHE_SITUACAO_CAND', 'DS_DETALHE_SITUACAO_CAND', 'TP_AGREMIACAO',\n",
       "       'NR_PARTIDO', 'SG_PARTIDO', 'NM_PARTIDO', 'SQ_COLIGACAO',\n",
       "       'NM_COLIGACAO', 'DS_COMPOSICAO_COLIGACAO', 'CD_NACIONALIDADE',\n",
       "       'DS_NACIONALIDADE', 'SG_UF_NASCIMENTO', 'CD_MUNICIPIO_NASCIMENTO',\n",
       "       'NM_MUNICIPIO_NASCIMENTO', 'DT_NASCIMENTO', 'NR_IDADE_DATA_POSSE',\n",
       "       'NR_TITULO_ELEITORAL_CANDIDATO', 'CD_GENERO', 'DS_GENERO',\n",
       "       'CD_GRAU_INSTRUCAO', 'DS_GRAU_INSTRUCAO', 'CD_ESTADO_CIVIL',\n",
       "       'DS_ESTADO_CIVIL', 'CD_COR_RACA', 'DS_COR_RACA', 'CD_OCUPACAO',\n",
       "       'DS_OCUPACAO', 'VR_DESPESA_MAX_CAMPANHA', 'CD_SIT_TOT_TURNO',\n",
       "       'DS_SIT_TOT_TURNO', 'ST_REELEICAO', 'ST_DECLARAR_BENS',\n",
       "       'NR_PROTOCOLO_CANDIDATURA', 'NR_PROCESSO',\n",
       "       'CD_SITUACAO_CANDIDATO_PLEITO', 'DS_SITUACAO_CANDIDATO_PLEITO',\n",
       "       'CD_SITUACAO_CANDIDATO_URNA', 'DS_SITUACAO_CANDIDATO_URNA',\n",
       "       'ST_CANDIDATO_INSERIDO_URNA'],\n",
       "      dtype='object')"
      ]
     },
     "execution_count": 41,
     "metadata": {},
     "output_type": "execute_result"
    }
   ],
   "source": [
    "print('Colunas - df_cadastro: ')\n",
    "df_cadastro.columns"
   ]
  },
  {
   "cell_type": "markdown",
   "metadata": {},
   "source": [
    "### 2. Identificando milionários"
   ]
  },
  {
   "cell_type": "code",
   "execution_count": 42,
   "metadata": {},
   "outputs": [],
   "source": [
    "# Tratando campo de valor dos bens\n",
    "df_bens['VR_BEM_CANDIDATO'] = df_bens['VR_BEM_CANDIDATO'].apply(lambda x: float(x.replace(',', '.')))"
   ]
  },
  {
   "cell_type": "code",
   "execution_count": 43,
   "metadata": {},
   "outputs": [],
   "source": [
    "# Somando valor dos bens por candidato\n",
    "df_bens_agregado = df_bens[['SQ_CANDIDATO', 'VR_BEM_CANDIDATO']].groupby(['SQ_CANDIDATO']).sum().reset_index()"
   ]
  },
  {
   "cell_type": "code",
   "execution_count": 44,
   "metadata": {
    "scrolled": true
   },
   "outputs": [
    {
     "name": "stdout",
     "output_type": "stream",
     "text": [
      "340452\n"
     ]
    },
    {
     "data": {
      "text/html": [
       "<div>\n",
       "<style scoped>\n",
       "    .dataframe tbody tr th:only-of-type {\n",
       "        vertical-align: middle;\n",
       "    }\n",
       "\n",
       "    .dataframe tbody tr th {\n",
       "        vertical-align: top;\n",
       "    }\n",
       "\n",
       "    .dataframe thead th {\n",
       "        text-align: right;\n",
       "    }\n",
       "</style>\n",
       "<table border=\"1\" class=\"dataframe\">\n",
       "  <thead>\n",
       "    <tr style=\"text-align: right;\">\n",
       "      <th></th>\n",
       "      <th>SQ_CANDIDATO</th>\n",
       "      <th>VR_BEM_CANDIDATO</th>\n",
       "      <th>NR_CPF_CANDIDATO</th>\n",
       "      <th>NM_CANDIDATO</th>\n",
       "      <th>SG_PARTIDO</th>\n",
       "      <th>SG_UF</th>\n",
       "      <th>NM_UE</th>\n",
       "      <th>DS_CARGO</th>\n",
       "    </tr>\n",
       "  </thead>\n",
       "  <tbody>\n",
       "    <tr>\n",
       "      <th>0</th>\n",
       "      <td>10000641345</td>\n",
       "      <td>319500.0</td>\n",
       "      <td>78506735220</td>\n",
       "      <td>GILSON DA COSTA DIAS</td>\n",
       "      <td>PSD</td>\n",
       "      <td>AC</td>\n",
       "      <td>ASSIS BRASIL</td>\n",
       "      <td>VEREADOR</td>\n",
       "    </tr>\n",
       "    <tr>\n",
       "      <th>1</th>\n",
       "      <td>10000641349</td>\n",
       "      <td>179000.0</td>\n",
       "      <td>19738595215</td>\n",
       "      <td>MANOEL DE OLIVEIRA SOUZA</td>\n",
       "      <td>PSD</td>\n",
       "      <td>AC</td>\n",
       "      <td>ASSIS BRASIL</td>\n",
       "      <td>VEREADOR</td>\n",
       "    </tr>\n",
       "    <tr>\n",
       "      <th>2</th>\n",
       "      <td>10000641351</td>\n",
       "      <td>7000.0</td>\n",
       "      <td>52559505215</td>\n",
       "      <td>LUIZ ABEL PEREIRA JAMINAWA</td>\n",
       "      <td>PSD</td>\n",
       "      <td>AC</td>\n",
       "      <td>ASSIS BRASIL</td>\n",
       "      <td>VEREADOR</td>\n",
       "    </tr>\n",
       "    <tr>\n",
       "      <th>3</th>\n",
       "      <td>10000641352</td>\n",
       "      <td>150000.0</td>\n",
       "      <td>67465994268</td>\n",
       "      <td>ANA CLAUDIA DA SILVA GONCALVES DE MORAES</td>\n",
       "      <td>PSD</td>\n",
       "      <td>AC</td>\n",
       "      <td>ASSIS BRASIL</td>\n",
       "      <td>VEREADOR</td>\n",
       "    </tr>\n",
       "    <tr>\n",
       "      <th>4</th>\n",
       "      <td>10000641353</td>\n",
       "      <td>150000.0</td>\n",
       "      <td>69403708204</td>\n",
       "      <td>IVANEIDE DA SILVA ARAUJO</td>\n",
       "      <td>PSD</td>\n",
       "      <td>AC</td>\n",
       "      <td>ASSIS BRASIL</td>\n",
       "      <td>VEREADOR</td>\n",
       "    </tr>\n",
       "  </tbody>\n",
       "</table>\n",
       "</div>"
      ],
      "text/plain": [
       "   SQ_CANDIDATO  VR_BEM_CANDIDATO  NR_CPF_CANDIDATO  \\\n",
       "0   10000641345          319500.0       78506735220   \n",
       "1   10000641349          179000.0       19738595215   \n",
       "2   10000641351            7000.0       52559505215   \n",
       "3   10000641352          150000.0       67465994268   \n",
       "4   10000641353          150000.0       69403708204   \n",
       "\n",
       "                               NM_CANDIDATO SG_PARTIDO SG_UF         NM_UE  \\\n",
       "0                      GILSON DA COSTA DIAS        PSD    AC  ASSIS BRASIL   \n",
       "1                  MANOEL DE OLIVEIRA SOUZA        PSD    AC  ASSIS BRASIL   \n",
       "2                LUIZ ABEL PEREIRA JAMINAWA        PSD    AC  ASSIS BRASIL   \n",
       "3  ANA CLAUDIA DA SILVA GONCALVES DE MORAES        PSD    AC  ASSIS BRASIL   \n",
       "4                  IVANEIDE DA SILVA ARAUJO        PSD    AC  ASSIS BRASIL   \n",
       "\n",
       "   DS_CARGO  \n",
       "0  VEREADOR  \n",
       "1  VEREADOR  \n",
       "2  VEREADOR  \n",
       "3  VEREADOR  \n",
       "4  VEREADOR  "
      ]
     },
     "execution_count": 44,
     "metadata": {},
     "output_type": "execute_result"
    }
   ],
   "source": [
    "# Trazendo o CPF do candidato\n",
    "df_bens_agregado['SQ_CANDIDATO'] = df_bens_agregado['SQ_CANDIDATO'].apply(lambda x: int(x))\n",
    "df_bens_agregado = df_bens_agregado.merge(df_cadastro[['SQ_CANDIDATO', 'NR_CPF_CANDIDATO', 'NM_CANDIDATO', 'SG_PARTIDO', 'SG_UF', 'NM_UE', 'DS_CARGO']], how = 'inner', on = 'SQ_CANDIDATO')\n",
    "print(len(df_bens_agregado))\n",
    "df_bens_agregado.head()"
   ]
  },
  {
   "cell_type": "code",
   "execution_count": 45,
   "metadata": {},
   "outputs": [
    {
     "data": {
      "text/html": [
       "<div>\n",
       "<style scoped>\n",
       "    .dataframe tbody tr th:only-of-type {\n",
       "        vertical-align: middle;\n",
       "    }\n",
       "\n",
       "    .dataframe tbody tr th {\n",
       "        vertical-align: top;\n",
       "    }\n",
       "\n",
       "    .dataframe thead th {\n",
       "        text-align: right;\n",
       "    }\n",
       "</style>\n",
       "<table border=\"1\" class=\"dataframe\">\n",
       "  <thead>\n",
       "    <tr style=\"text-align: right;\">\n",
       "      <th></th>\n",
       "      <th>SQ_CANDIDATO</th>\n",
       "      <th>VR_BEM_CANDIDATO</th>\n",
       "      <th>NR_CPF_CANDIDATO</th>\n",
       "      <th>NM_CANDIDATO</th>\n",
       "      <th>SG_PARTIDO</th>\n",
       "      <th>SG_UF</th>\n",
       "      <th>NM_UE</th>\n",
       "      <th>DS_CARGO</th>\n",
       "    </tr>\n",
       "  </thead>\n",
       "  <tbody>\n",
       "    <tr>\n",
       "      <th>260423</th>\n",
       "      <td>240000752606</td>\n",
       "      <td>1276987.17</td>\n",
       "      <td>47746017991</td>\n",
       "      <td>JOSÉ HENRIQUE REMPEL HENTZ</td>\n",
       "      <td>PT</td>\n",
       "      <td>SC</td>\n",
       "      <td>PINHALZINHO</td>\n",
       "      <td>VEREADOR</td>\n",
       "    </tr>\n",
       "    <tr>\n",
       "      <th>112845</th>\n",
       "      <td>130000855128</td>\n",
       "      <td>2043000.00</td>\n",
       "      <td>88152014672</td>\n",
       "      <td>CARLOS ROBERTO MENDES</td>\n",
       "      <td>PP</td>\n",
       "      <td>MG</td>\n",
       "      <td>CATAS ALTAS DA NORUEGA</td>\n",
       "      <td>VEREADOR</td>\n",
       "    </tr>\n",
       "    <tr>\n",
       "      <th>271250</th>\n",
       "      <td>240001138198</td>\n",
       "      <td>1000000.00</td>\n",
       "      <td>89774183991</td>\n",
       "      <td>TÂNIA MARIA MARCELINO</td>\n",
       "      <td>PSD</td>\n",
       "      <td>SC</td>\n",
       "      <td>BIGUAÇU</td>\n",
       "      <td>VEREADOR</td>\n",
       "    </tr>\n",
       "    <tr>\n",
       "      <th>314325</th>\n",
       "      <td>250001111226</td>\n",
       "      <td>1695000.00</td>\n",
       "      <td>7781332814</td>\n",
       "      <td>NEY VAZ PINTO LYRA</td>\n",
       "      <td>PSDB</td>\n",
       "      <td>SP</td>\n",
       "      <td>BERTIOGA</td>\n",
       "      <td>VEREADOR</td>\n",
       "    </tr>\n",
       "    <tr>\n",
       "      <th>147018</th>\n",
       "      <td>130001235138</td>\n",
       "      <td>1280000.00</td>\n",
       "      <td>84025085615</td>\n",
       "      <td>GERALDO FLAVIO DE MACEDO SOARES</td>\n",
       "      <td>MDB</td>\n",
       "      <td>MG</td>\n",
       "      <td>MONTALVÂNIA</td>\n",
       "      <td>PREFEITO</td>\n",
       "    </tr>\n",
       "  </tbody>\n",
       "</table>\n",
       "</div>"
      ],
      "text/plain": [
       "        SQ_CANDIDATO  VR_BEM_CANDIDATO  NR_CPF_CANDIDATO  \\\n",
       "260423  240000752606        1276987.17       47746017991   \n",
       "112845  130000855128        2043000.00       88152014672   \n",
       "271250  240001138198        1000000.00       89774183991   \n",
       "314325  250001111226        1695000.00        7781332814   \n",
       "147018  130001235138        1280000.00       84025085615   \n",
       "\n",
       "                           NM_CANDIDATO SG_PARTIDO SG_UF  \\\n",
       "260423       JOSÉ HENRIQUE REMPEL HENTZ         PT    SC   \n",
       "112845            CARLOS ROBERTO MENDES         PP    MG   \n",
       "271250            TÂNIA MARIA MARCELINO        PSD    SC   \n",
       "314325               NEY VAZ PINTO LYRA       PSDB    SP   \n",
       "147018  GERALDO FLAVIO DE MACEDO SOARES        MDB    MG   \n",
       "\n",
       "                         NM_UE  DS_CARGO  \n",
       "260423             PINHALZINHO  VEREADOR  \n",
       "112845  CATAS ALTAS DA NORUEGA  VEREADOR  \n",
       "271250                 BIGUAÇU  VEREADOR  \n",
       "314325                BERTIOGA  VEREADOR  \n",
       "147018             MONTALVÂNIA  PREFEITO  "
      ]
     },
     "execution_count": 45,
     "metadata": {},
     "output_type": "execute_result"
    }
   ],
   "source": [
    "# Filtrando milionários\n",
    "df_milionarios = df_bens_agregado[df_bens_agregado['VR_BEM_CANDIDATO'] >= 1000000]\n",
    "df_milionarios.sample(5)"
   ]
  },
  {
   "cell_type": "code",
   "execution_count": 46,
   "metadata": {},
   "outputs": [
    {
     "name": "stdout",
     "output_type": "stream",
     "text": [
      "Número de Milionários - Eleições 20020:\n"
     ]
    },
    {
     "data": {
      "text/plain": [
       "13510"
      ]
     },
     "execution_count": 46,
     "metadata": {},
     "output_type": "execute_result"
    }
   ],
   "source": [
    "print('Número de Milionários - Eleições 20020:')\n",
    "len(df_milionarios)"
   ]
  },
  {
   "cell_type": "markdown",
   "metadata": {},
   "source": [
    "### 3. Acessando API do Portal da Transparência para verificar se o ricaço está recebendo o Coronavoucher\n",
    "Para obter credencial na API: http://portaldatransparencia.gov.br/api-de-dados/cadastrar-email"
   ]
  },
  {
   "cell_type": "markdown",
   "metadata": {},
   "source": [
    "#### -> Primeiro, vamos só verificar como voltam as requisições do coronavoucher"
   ]
  },
  {
   "cell_type": "code",
   "execution_count": 47,
   "metadata": {},
   "outputs": [
    {
     "name": "stdout",
     "output_type": "stream",
     "text": [
      "Exemplo positivo\n",
      "[{'id': 835685928, 'mesDisponibilizacao': '04/2020', 'beneficiario': {'nis': '00000000000', 'nome': 'NESTOR DIEGO VACA PONZ', 'multiploCadastro': False, 'cpfFormatado': '***.686.842-**'}, 'responsavelAuxilioEmergencial': {'nis': '-2', 'nome': 'Não se aplica', 'nomeSemAcento': 'Nao se aplica', 'cpfFormatado': ''}, 'municipio': {'codigoIBGE': '1200104', 'nomeIBGE': 'BRASILÉIA', 'nomeIBGEsemAcento': 'BRASILEIA', 'pais': 'BRASIL', 'uf': {'sigla': 'AC', 'nome': 'ACRE'}}, 'valor': 600.0}]\n",
      "----------\n",
      "Exemplo negativo\n",
      "[]\n",
      "----------\n",
      "Veja nos 2 exemplos acima que, quando o cpf é beneficiário do coronavoucher, a requisição retorna com várias informações sobre o pagamento do benefício.\n",
      "Já quando não há recebimento, a resposta é uma lista vazia.\n"
     ]
    }
   ],
   "source": [
    "exemplo_cpf_recebe = '70068684240'\n",
    "exemplo_cpf_nao_recebe = '15326950120'\n",
    "\n",
    "# Aqui são os parâmetros da conexão, onde informamos nossa credencial de acesso\n",
    "headers = {\n",
    "    'Accept': \"application/json\",\n",
    "    'chave-api-dados': '##### sua credencial aqui #####',\n",
    "}\n",
    "\n",
    "# Aqui, os parâmetros da consulta. Primeiro, vamos ver um caso em que o cpf recebe auxílio emergencial\n",
    "params = (\n",
    "        ('codigoBeneficiario', exemplo_cpf_recebe),\n",
    "        ('pagina', '1'),\n",
    "    )\n",
    "\n",
    "# Aqui, a resposta dessa requisição\n",
    "response = requests.get('http://www.transparencia.gov.br/api-de-dados/auxilio-emergencial-por-cpf-ou-nis', headers=headers, params=params)\n",
    "print('Exemplo positivo')\n",
    "print(response.json())\n",
    "print('----------')\n",
    "\n",
    "# Agora, vejamos a resposta de uma requisição onde o cpf não recebe o auxílio\n",
    "params = (\n",
    "        ('codigoBeneficiario', exemplo_cpf_nao_recebe),\n",
    "        ('pagina', '1'),\n",
    "    )\n",
    "\n",
    "response = requests.get('http://www.transparencia.gov.br/api-de-dados/auxilio-emergencial-por-cpf-ou-nis', headers=headers, params=params)\n",
    "print('Exemplo negativo')\n",
    "print(response.json())\n",
    "print('----------')\n",
    "\n",
    "print('Veja nos 2 exemplos acima que, quando o cpf é beneficiário do coronavoucher, a requisição retorna com várias informações sobre o pagamento do benefício.')\n",
    "print('Já quando não há recebimento, a resposta é uma lista vazia.')"
   ]
  },
  {
   "cell_type": "markdown",
   "metadata": {},
   "source": [
    "#### -> Agora sim, vamos verificar nossos milionários"
   ]
  },
  {
   "cell_type": "code",
   "execution_count": 48,
   "metadata": {},
   "outputs": [],
   "source": [
    "lista_milionarios = list(df_milionarios['NR_CPF_CANDIDATO'])"
   ]
  },
  {
   "cell_type": "code",
   "execution_count": 49,
   "metadata": {
    "scrolled": true
   },
   "outputs": [
    {
     "name": "stdout",
     "output_type": "stream",
     "text": [
      "30875978215 0\n",
      "35936398234 0\n",
      "70068684240 1\n",
      "80791581268 1\n",
      "31207642800 0\n",
      "72816082253 0\n",
      "19672705204 0\n",
      "47655640963 0\n",
      "81428197249 1\n",
      "65406915720 0\n",
      "34979824234 0\n",
      "47837250206 1\n",
      "55338615720 0\n",
      "19631642291 0\n",
      "21711615234 0\n",
      "50791524272 0\n",
      "50810006200 0\n",
      "35954590249 0\n",
      "42062160291 0\n",
      "43403956253 0\n"
     ]
    }
   ],
   "source": [
    "headers = {\n",
    "    'Accept': \"application/json\",\n",
    "    'chave-api-dados': '##### sua credencial aqui #####',\n",
    "}\n",
    "\n",
    "# Testando abaixo se cada CPF da minha lista de milionários consta como beneficiário do Coronavoucher.\n",
    "respostas = []\n",
    "for cpf in lista_milionarios[:20]: # Para economizar tempo na oficina, estou restringindo a consulta aos 20 primeiros.\n",
    "    time.sleep(2.01)\n",
    "    cpf_ = '0'*(11-len(str(cpf))) + str(cpf)\n",
    "    params = (\n",
    "        ('codigoBeneficiario', cpf_),\n",
    "        ('pagina', '1'),\n",
    "    )\n",
    "\n",
    "    response = requests.get('http://www.transparencia.gov.br/api-de-dados/auxilio-emergencial-por-cpf-ou-nis', headers=headers, params=params)\n",
    "    if len(response.json()) > 0:\n",
    "        teste = 1\n",
    "    else:\n",
    "        teste = 0\n",
    "        \n",
    "    respostas.append([cpf, teste])\n",
    "\n",
    "    print(cpf, teste)\n"
   ]
  },
  {
   "cell_type": "code",
   "execution_count": 50,
   "metadata": {
    "scrolled": true
   },
   "outputs": [
    {
     "data": {
      "text/plain": [
       "[[30875978215, 0],\n",
       " [35936398234, 0],\n",
       " [70068684240, 1],\n",
       " [80791581268, 1],\n",
       " [31207642800, 0],\n",
       " [72816082253, 0],\n",
       " [19672705204, 0],\n",
       " [47655640963, 0],\n",
       " [81428197249, 1],\n",
       " [65406915720, 0],\n",
       " [34979824234, 0],\n",
       " [47837250206, 1],\n",
       " [55338615720, 0],\n",
       " [19631642291, 0],\n",
       " [21711615234, 0],\n",
       " [50791524272, 0],\n",
       " [50810006200, 0],\n",
       " [35954590249, 0],\n",
       " [42062160291, 0],\n",
       " [43403956253, 0]]"
      ]
     },
     "execution_count": 50,
     "metadata": {},
     "output_type": "execute_result"
    }
   ],
   "source": [
    "respostas"
   ]
  },
  {
   "cell_type": "markdown",
   "metadata": {},
   "source": [
    "### 4. Resumindo os achados\n"
   ]
  },
  {
   "cell_type": "code",
   "execution_count": 51,
   "metadata": {},
   "outputs": [],
   "source": [
    "df_resultado = pd.DataFrame.from_records(respostas)\n",
    "df_resultado.columns = ['cpf', 'resultado']"
   ]
  },
  {
   "cell_type": "code",
   "execution_count": 52,
   "metadata": {},
   "outputs": [],
   "source": [
    "df_resultado = df_resultado[df_resultado['resultado'] == 1].merge(df_milionarios, how = 'inner', left_on = 'cpf', right_on = 'NR_CPF_CANDIDATO')"
   ]
  },
  {
   "cell_type": "code",
   "execution_count": 53,
   "metadata": {},
   "outputs": [
    {
     "data": {
      "text/html": [
       "<div>\n",
       "<style scoped>\n",
       "    .dataframe tbody tr th:only-of-type {\n",
       "        vertical-align: middle;\n",
       "    }\n",
       "\n",
       "    .dataframe tbody tr th {\n",
       "        vertical-align: top;\n",
       "    }\n",
       "\n",
       "    .dataframe thead th {\n",
       "        text-align: right;\n",
       "    }\n",
       "</style>\n",
       "<table border=\"1\" class=\"dataframe\">\n",
       "  <thead>\n",
       "    <tr style=\"text-align: right;\">\n",
       "      <th></th>\n",
       "      <th>cpf</th>\n",
       "      <th>resultado</th>\n",
       "      <th>SQ_CANDIDATO</th>\n",
       "      <th>VR_BEM_CANDIDATO</th>\n",
       "      <th>NR_CPF_CANDIDATO</th>\n",
       "      <th>NM_CANDIDATO</th>\n",
       "      <th>SG_PARTIDO</th>\n",
       "      <th>SG_UF</th>\n",
       "      <th>NM_UE</th>\n",
       "      <th>DS_CARGO</th>\n",
       "    </tr>\n",
       "  </thead>\n",
       "  <tbody>\n",
       "    <tr>\n",
       "      <th>0</th>\n",
       "      <td>70068684240</td>\n",
       "      <td>1</td>\n",
       "      <td>10000701046</td>\n",
       "      <td>1120000.0</td>\n",
       "      <td>70068684240</td>\n",
       "      <td>NESTOR DIEGO VACA PONZ</td>\n",
       "      <td>DEM</td>\n",
       "      <td>AC</td>\n",
       "      <td>RIO BRANCO</td>\n",
       "      <td>VEREADOR</td>\n",
       "    </tr>\n",
       "    <tr>\n",
       "      <th>1</th>\n",
       "      <td>80791581268</td>\n",
       "      <td>1</td>\n",
       "      <td>10000702288</td>\n",
       "      <td>1300000.0</td>\n",
       "      <td>80791581268</td>\n",
       "      <td>WANDERLI PORTELA DE SOUZA</td>\n",
       "      <td>PSD</td>\n",
       "      <td>AC</td>\n",
       "      <td>ACRELÂNDIA</td>\n",
       "      <td>VEREADOR</td>\n",
       "    </tr>\n",
       "    <tr>\n",
       "      <th>2</th>\n",
       "      <td>81428197249</td>\n",
       "      <td>1</td>\n",
       "      <td>10000854409</td>\n",
       "      <td>1000000.0</td>\n",
       "      <td>81428197249</td>\n",
       "      <td>MARIA VANEIDA DOS SANTOS SILVA</td>\n",
       "      <td>PP</td>\n",
       "      <td>AC</td>\n",
       "      <td>ACRELÂNDIA</td>\n",
       "      <td>VEREADOR</td>\n",
       "    </tr>\n",
       "    <tr>\n",
       "      <th>3</th>\n",
       "      <td>47837250206</td>\n",
       "      <td>1</td>\n",
       "      <td>10000882781</td>\n",
       "      <td>1223000.0</td>\n",
       "      <td>47837250206</td>\n",
       "      <td>JOSMAR GOMES COELHO</td>\n",
       "      <td>PSDB</td>\n",
       "      <td>AC</td>\n",
       "      <td>BRASILÉIA</td>\n",
       "      <td>VEREADOR</td>\n",
       "    </tr>\n",
       "  </tbody>\n",
       "</table>\n",
       "</div>"
      ],
      "text/plain": [
       "           cpf  resultado  SQ_CANDIDATO  VR_BEM_CANDIDATO  NR_CPF_CANDIDATO  \\\n",
       "0  70068684240          1   10000701046         1120000.0       70068684240   \n",
       "1  80791581268          1   10000702288         1300000.0       80791581268   \n",
       "2  81428197249          1   10000854409         1000000.0       81428197249   \n",
       "3  47837250206          1   10000882781         1223000.0       47837250206   \n",
       "\n",
       "                     NM_CANDIDATO SG_PARTIDO SG_UF       NM_UE  DS_CARGO  \n",
       "0          NESTOR DIEGO VACA PONZ        DEM    AC  RIO BRANCO  VEREADOR  \n",
       "1       WANDERLI PORTELA DE SOUZA        PSD    AC  ACRELÂNDIA  VEREADOR  \n",
       "2  MARIA VANEIDA DOS SANTOS SILVA         PP    AC  ACRELÂNDIA  VEREADOR  \n",
       "3             JOSMAR GOMES COELHO       PSDB    AC   BRASILÉIA  VEREADOR  "
      ]
     },
     "execution_count": 53,
     "metadata": {},
     "output_type": "execute_result"
    }
   ],
   "source": [
    "df_resultado"
   ]
  },
  {
   "cell_type": "markdown",
   "metadata": {},
   "source": [
    "A tabela acima resume os casos em que o CPF do milionário aparece dentre os beneficiários do auxílio emergencial."
   ]
  },
  {
   "cell_type": "code",
   "execution_count": null,
   "metadata": {},
   "outputs": [],
   "source": []
  }
 ],
 "metadata": {
  "kernelspec": {
   "display_name": "Python 3",
   "language": "python",
   "name": "python3"
  },
  "language_info": {
   "codemirror_mode": {
    "name": "ipython",
    "version": 3
   },
   "file_extension": ".py",
   "mimetype": "text/x-python",
   "name": "python",
   "nbconvert_exporter": "python",
   "pygments_lexer": "ipython3",
   "version": "3.7.1"
  }
 },
 "nbformat": 4,
 "nbformat_minor": 2
}
