{
 "cells": [
  {
   "cell_type": "markdown",
   "metadata": {},
   "source": [
    "#### Objetivo\n",
    "Nosso objetivo nesta análise é descobrir casos de pessoas que doaram para campanhas a deputados federais em 2018 e estão sendo beneficiadas por recursos oriundos da cota parlamentar. Ressalto que não há vedação legal para esse tipo de situação, embora entende que pode ser questionado eventual conflito de interesse.\n",
    "Vamos utilizar os dados abertos da Câmara (cotas) e do TSE (receitas de campanha)."
   ]
  },
  {
   "cell_type": "markdown",
   "metadata": {},
   "source": [
    "#### Pacotes utilizados"
   ]
  },
  {
   "cell_type": "code",
   "execution_count": 29,
   "metadata": {},
   "outputs": [],
   "source": [
    "import pandas as pd ### Pacote para análise e transformação de tabelas de dados"
   ]
  },
  {
   "cell_type": "markdown",
   "metadata": {},
   "source": [
    "### 1. Carregando e preparando dados da Câmara e do TSE"
   ]
  },
  {
   "cell_type": "markdown",
   "metadata": {},
   "source": [
    "#### -> Dados de reembolso de cota parlamentar"
   ]
  },
  {
   "cell_type": "code",
   "execution_count": 7,
   "metadata": {},
   "outputs": [],
   "source": [
    "df_cota = pd.read_excel('../_dados/cota/Ano-2020.xlsx', encoding = 'latin1')\n",
    "df_cota = pd.concat([df_cota, pd.read_excel('../_dados/cota/Ano-2019.xlsx', encoding = 'latin1')])"
   ]
  },
  {
   "cell_type": "code",
   "execution_count": 30,
   "metadata": {},
   "outputs": [
    {
     "data": {
      "text/html": [
       "<div>\n",
       "<style scoped>\n",
       "    .dataframe tbody tr th:only-of-type {\n",
       "        vertical-align: middle;\n",
       "    }\n",
       "\n",
       "    .dataframe tbody tr th {\n",
       "        vertical-align: top;\n",
       "    }\n",
       "\n",
       "    .dataframe thead th {\n",
       "        text-align: right;\n",
       "    }\n",
       "</style>\n",
       "<table border=\"1\" class=\"dataframe\">\n",
       "  <thead>\n",
       "    <tr style=\"text-align: right;\">\n",
       "      <th></th>\n",
       "      <th>txNomeParlamentar</th>\n",
       "      <th>cpf</th>\n",
       "      <th>ideCadastro</th>\n",
       "      <th>nuCarteiraParlamentar</th>\n",
       "      <th>nuLegislatura</th>\n",
       "      <th>sgUF</th>\n",
       "      <th>sgPartido</th>\n",
       "      <th>codLegislatura</th>\n",
       "      <th>numSubCota</th>\n",
       "      <th>txtDescricao</th>\n",
       "      <th>...</th>\n",
       "      <th>numAno</th>\n",
       "      <th>numParcela</th>\n",
       "      <th>txtPassageiro</th>\n",
       "      <th>txtTrecho</th>\n",
       "      <th>numLote</th>\n",
       "      <th>numRessarcimento</th>\n",
       "      <th>vlrRestituicao</th>\n",
       "      <th>nuDeputadoId</th>\n",
       "      <th>ideDocumento</th>\n",
       "      <th>urlDocumento</th>\n",
       "    </tr>\n",
       "  </thead>\n",
       "  <tbody>\n",
       "    <tr>\n",
       "      <th>0</th>\n",
       "      <td>LIDERANÇA DO DEMOCRATAS</td>\n",
       "      <td>NaN</td>\n",
       "      <td>NaN</td>\n",
       "      <td>NaN</td>\n",
       "      <td>2019</td>\n",
       "      <td>NaN</td>\n",
       "      <td>NaN</td>\n",
       "      <td>56</td>\n",
       "      <td>4</td>\n",
       "      <td>CONSULTORIAS, PESQUISAS E TRABALHOS TÉCNICOS.</td>\n",
       "      <td>...</td>\n",
       "      <td>2020</td>\n",
       "      <td>0</td>\n",
       "      <td>NaN</td>\n",
       "      <td>NaN</td>\n",
       "      <td>1693866</td>\n",
       "      <td>NaN</td>\n",
       "      <td>NaN</td>\n",
       "      <td>2713</td>\n",
       "      <td>7050172</td>\n",
       "      <td>http://camara.leg.br/cota-parlamentar/nota-fis...</td>\n",
       "    </tr>\n",
       "    <tr>\n",
       "      <th>1</th>\n",
       "      <td>LIDERANÇA DO DEMOCRATAS</td>\n",
       "      <td>NaN</td>\n",
       "      <td>NaN</td>\n",
       "      <td>NaN</td>\n",
       "      <td>2019</td>\n",
       "      <td>NaN</td>\n",
       "      <td>NaN</td>\n",
       "      <td>56</td>\n",
       "      <td>4</td>\n",
       "      <td>CONSULTORIAS, PESQUISAS E TRABALHOS TÉCNICOS.</td>\n",
       "      <td>...</td>\n",
       "      <td>2020</td>\n",
       "      <td>0</td>\n",
       "      <td>NaN</td>\n",
       "      <td>NaN</td>\n",
       "      <td>1698547</td>\n",
       "      <td>NaN</td>\n",
       "      <td>NaN</td>\n",
       "      <td>2713</td>\n",
       "      <td>7058437</td>\n",
       "      <td>http://camara.leg.br/cota-parlamentar/nota-fis...</td>\n",
       "    </tr>\n",
       "    <tr>\n",
       "      <th>2</th>\n",
       "      <td>LIDERANÇA DO DEMOCRATAS</td>\n",
       "      <td>NaN</td>\n",
       "      <td>NaN</td>\n",
       "      <td>NaN</td>\n",
       "      <td>2019</td>\n",
       "      <td>NaN</td>\n",
       "      <td>NaN</td>\n",
       "      <td>56</td>\n",
       "      <td>4</td>\n",
       "      <td>CONSULTORIAS, PESQUISAS E TRABALHOS TÉCNICOS.</td>\n",
       "      <td>...</td>\n",
       "      <td>2020</td>\n",
       "      <td>0</td>\n",
       "      <td>NaN</td>\n",
       "      <td>NaN</td>\n",
       "      <td>1709149</td>\n",
       "      <td>NaN</td>\n",
       "      <td>NaN</td>\n",
       "      <td>2713</td>\n",
       "      <td>7078508</td>\n",
       "      <td>http://camara.leg.br/cota-parlamentar/nota-fis...</td>\n",
       "    </tr>\n",
       "  </tbody>\n",
       "</table>\n",
       "<p>3 rows × 31 columns</p>\n",
       "</div>"
      ],
      "text/plain": [
       "         txNomeParlamentar  cpf  ideCadastro  nuCarteiraParlamentar  \\\n",
       "0  LIDERANÇA DO DEMOCRATAS  NaN          NaN                    NaN   \n",
       "1  LIDERANÇA DO DEMOCRATAS  NaN          NaN                    NaN   \n",
       "2  LIDERANÇA DO DEMOCRATAS  NaN          NaN                    NaN   \n",
       "\n",
       "   nuLegislatura sgUF sgPartido  codLegislatura  numSubCota  \\\n",
       "0           2019  NaN       NaN              56           4   \n",
       "1           2019  NaN       NaN              56           4   \n",
       "2           2019  NaN       NaN              56           4   \n",
       "\n",
       "                                    txtDescricao  \\\n",
       "0  CONSULTORIAS, PESQUISAS E TRABALHOS TÉCNICOS.   \n",
       "1  CONSULTORIAS, PESQUISAS E TRABALHOS TÉCNICOS.   \n",
       "2  CONSULTORIAS, PESQUISAS E TRABALHOS TÉCNICOS.   \n",
       "\n",
       "                         ...                          numAno numParcela  \\\n",
       "0                        ...                            2020          0   \n",
       "1                        ...                            2020          0   \n",
       "2                        ...                            2020          0   \n",
       "\n",
       "  txtPassageiro txtTrecho  numLote  numRessarcimento vlrRestituicao  \\\n",
       "0           NaN       NaN  1693866               NaN            NaN   \n",
       "1           NaN       NaN  1698547               NaN            NaN   \n",
       "2           NaN       NaN  1709149               NaN            NaN   \n",
       "\n",
       "   nuDeputadoId  ideDocumento  \\\n",
       "0          2713       7050172   \n",
       "1          2713       7058437   \n",
       "2          2713       7078508   \n",
       "\n",
       "                                        urlDocumento  \n",
       "0  http://camara.leg.br/cota-parlamentar/nota-fis...  \n",
       "1  http://camara.leg.br/cota-parlamentar/nota-fis...  \n",
       "2  http://camara.leg.br/cota-parlamentar/nota-fis...  \n",
       "\n",
       "[3 rows x 31 columns]"
      ]
     },
     "execution_count": 30,
     "metadata": {},
     "output_type": "execute_result"
    }
   ],
   "source": [
    "df_cota.head(3)"
   ]
  },
  {
   "cell_type": "code",
   "execution_count": 9,
   "metadata": {
    "scrolled": true
   },
   "outputs": [
    {
     "data": {
      "text/plain": [
       "Index(['txNomeParlamentar', 'cpf', 'ideCadastro', 'nuCarteiraParlamentar',\n",
       "       'nuLegislatura', 'sgUF', 'sgPartido', 'codLegislatura', 'numSubCota',\n",
       "       'txtDescricao', 'numEspecificacaoSubCota', 'txtDescricaoEspecificacao',\n",
       "       'txtFornecedor', 'txtCNPJCPF', 'txtNumero', 'indTipoDocumento',\n",
       "       'datEmissao', 'vlrDocumento', 'vlrGlosa', 'vlrLiquido', 'numMes',\n",
       "       'numAno', 'numParcela', 'txtPassageiro', 'txtTrecho', 'numLote',\n",
       "       'numRessarcimento', 'vlrRestituicao', 'nuDeputadoId', 'ideDocumento',\n",
       "       'urlDocumento'],\n",
       "      dtype='object')"
      ]
     },
     "execution_count": 9,
     "metadata": {},
     "output_type": "execute_result"
    }
   ],
   "source": [
    "df_cota.columns"
   ]
  },
  {
   "cell_type": "code",
   "execution_count": 31,
   "metadata": {},
   "outputs": [],
   "source": [
    "# Criando tabela só com dados da legislatura atual\n",
    "df_cota_leg_2019 = df_cota[df_cota['nuLegislatura'] == 2019].reset_index(drop = True)"
   ]
  },
  {
   "cell_type": "code",
   "execution_count": 33,
   "metadata": {},
   "outputs": [],
   "source": [
    "# Ajustando cnpj do doador\n",
    "def corrige_cpf_cnpj(x):\n",
    "    if pd.isna(x) == True:\n",
    "        y = 'nan'\n",
    "    else:\n",
    "        cnpj_str = x.replace('.', '').replace('/', '').replace('-', '').replace(' ', '')\n",
    "        y = '0'*(14 - len(cnpj_str)) + cnpj_str\n",
    "    return y\n",
    "\n",
    "df_cota_leg_2019['txtCNPJCPF'] = df_cota_leg_2019['txtCNPJCPF'].map(corrige_cpf_cnpj)"
   ]
  },
  {
   "cell_type": "code",
   "execution_count": 34,
   "metadata": {},
   "outputs": [],
   "source": [
    "# Criando dimensão com cpf do deputado\n",
    "tab_cpf = df_cota_leg_2019[['txNomeParlamentar', 'cpf']].drop_duplicates().reset_index(drop = 1)"
   ]
  },
  {
   "cell_type": "code",
   "execution_count": 35,
   "metadata": {},
   "outputs": [],
   "source": [
    "tab_cpf = tab_cpf[pd.isna(tab_cpf['cpf']) == False]"
   ]
  },
  {
   "cell_type": "code",
   "execution_count": 36,
   "metadata": {},
   "outputs": [],
   "source": [
    "# Ajustando cpf do parlamentar na tabela auxiliar\n",
    "\n",
    "tab_cpf['cpf_ajustado'] = tab_cpf['cpf'].apply(lambda x: '0'*(11 - len(str(int(x)))) + str(int(x)))"
   ]
  },
  {
   "cell_type": "code",
   "execution_count": 37,
   "metadata": {},
   "outputs": [],
   "source": [
    "# Trazendo cpf_ajustado para tabela de cota\n",
    "\n",
    "df_cota_leg_2019 = df_cota_leg_2019.merge(tab_cpf[['txNomeParlamentar', 'cpf_ajustado']], on = 'txNomeParlamentar', how = 'inner')\n"
   ]
  },
  {
   "cell_type": "markdown",
   "metadata": {},
   "source": [
    "#### -> Dados do TSE: receitas"
   ]
  },
  {
   "cell_type": "code",
   "execution_count": 52,
   "metadata": {},
   "outputs": [],
   "source": [
    "df_receitas_tse = pd.read_csv('../_dados/cota/receitas_candidatos_2018_BRASIL.csv', sep = ';', encoding = 'latin1')"
   ]
  },
  {
   "cell_type": "code",
   "execution_count": 53,
   "metadata": {},
   "outputs": [
    {
     "data": {
      "text/html": [
       "<div>\n",
       "<style scoped>\n",
       "    .dataframe tbody tr th:only-of-type {\n",
       "        vertical-align: middle;\n",
       "    }\n",
       "\n",
       "    .dataframe tbody tr th {\n",
       "        vertical-align: top;\n",
       "    }\n",
       "\n",
       "    .dataframe thead th {\n",
       "        text-align: right;\n",
       "    }\n",
       "</style>\n",
       "<table border=\"1\" class=\"dataframe\">\n",
       "  <thead>\n",
       "    <tr style=\"text-align: right;\">\n",
       "      <th></th>\n",
       "      <th>DT_GERACAO</th>\n",
       "      <th>HH_GERACAO</th>\n",
       "      <th>ANO_ELEICAO</th>\n",
       "      <th>CD_TIPO_ELEICAO</th>\n",
       "      <th>NM_TIPO_ELEICAO</th>\n",
       "      <th>CD_ELEICAO</th>\n",
       "      <th>DS_ELEICAO</th>\n",
       "      <th>DT_ELEICAO</th>\n",
       "      <th>ST_TURNO</th>\n",
       "      <th>TP_PRESTACAO_CONTAS</th>\n",
       "      <th>...</th>\n",
       "      <th>DS_CARGO_CANDIDATO_DOADOR</th>\n",
       "      <th>NR_PARTIDO_DOADOR</th>\n",
       "      <th>SG_PARTIDO_DOADOR</th>\n",
       "      <th>NM_PARTIDO_DOADOR</th>\n",
       "      <th>NR_RECIBO_DOACAO</th>\n",
       "      <th>NR_DOCUMENTO_DOACAO</th>\n",
       "      <th>SQ_RECEITA</th>\n",
       "      <th>DT_RECEITA</th>\n",
       "      <th>DS_RECEITA</th>\n",
       "      <th>VR_RECEITA</th>\n",
       "    </tr>\n",
       "  </thead>\n",
       "  <tbody>\n",
       "    <tr>\n",
       "      <th>0</th>\n",
       "      <td>29/10/2020</td>\n",
       "      <td>15:23:43</td>\n",
       "      <td>2018</td>\n",
       "      <td>2</td>\n",
       "      <td>Ordinária</td>\n",
       "      <td>297</td>\n",
       "      <td>Eleição Geral Federal 2018</td>\n",
       "      <td>07/10/2018</td>\n",
       "      <td>1</td>\n",
       "      <td>Final</td>\n",
       "      <td>...</td>\n",
       "      <td>Vice-governador</td>\n",
       "      <td>43</td>\n",
       "      <td>PV</td>\n",
       "      <td>Partido Verde</td>\n",
       "      <td>#NULO#</td>\n",
       "      <td>702437</td>\n",
       "      <td>12216154</td>\n",
       "      <td>05/11/2018</td>\n",
       "      <td>#NULO#</td>\n",
       "      <td>29,00</td>\n",
       "    </tr>\n",
       "    <tr>\n",
       "      <th>1</th>\n",
       "      <td>29/10/2020</td>\n",
       "      <td>15:23:43</td>\n",
       "      <td>2018</td>\n",
       "      <td>2</td>\n",
       "      <td>Ordinária</td>\n",
       "      <td>297</td>\n",
       "      <td>Eleição Geral Federal 2018</td>\n",
       "      <td>07/10/2018</td>\n",
       "      <td>1</td>\n",
       "      <td>Final</td>\n",
       "      <td>...</td>\n",
       "      <td>Vice-governador</td>\n",
       "      <td>43</td>\n",
       "      <td>PV</td>\n",
       "      <td>Partido Verde</td>\n",
       "      <td>#NULO#</td>\n",
       "      <td>694076</td>\n",
       "      <td>12216153</td>\n",
       "      <td>29/10/2018</td>\n",
       "      <td>#NULO#</td>\n",
       "      <td>1795,00</td>\n",
       "    </tr>\n",
       "    <tr>\n",
       "      <th>2</th>\n",
       "      <td>29/10/2020</td>\n",
       "      <td>15:23:43</td>\n",
       "      <td>2018</td>\n",
       "      <td>2</td>\n",
       "      <td>Ordinária</td>\n",
       "      <td>297</td>\n",
       "      <td>Eleição Geral Federal 2018</td>\n",
       "      <td>07/10/2018</td>\n",
       "      <td>1</td>\n",
       "      <td>Final</td>\n",
       "      <td>...</td>\n",
       "      <td>Governador</td>\n",
       "      <td>43</td>\n",
       "      <td>PV</td>\n",
       "      <td>Partido Verde</td>\n",
       "      <td>000430300000MS000005E</td>\n",
       "      <td>#NULO#</td>\n",
       "      <td>12317815</td>\n",
       "      <td>17/08/2018</td>\n",
       "      <td>CESSÃO DE USO DO ESPAÇO FÍSICO DO SEU IMÓVEL P...</td>\n",
       "      <td>1500,00</td>\n",
       "    </tr>\n",
       "  </tbody>\n",
       "</table>\n",
       "<p>3 rows × 57 columns</p>\n",
       "</div>"
      ],
      "text/plain": [
       "   DT_GERACAO HH_GERACAO  ANO_ELEICAO  CD_TIPO_ELEICAO NM_TIPO_ELEICAO  \\\n",
       "0  29/10/2020   15:23:43         2018                2       Ordinária   \n",
       "1  29/10/2020   15:23:43         2018                2       Ordinária   \n",
       "2  29/10/2020   15:23:43         2018                2       Ordinária   \n",
       "\n",
       "   CD_ELEICAO                  DS_ELEICAO  DT_ELEICAO  ST_TURNO  \\\n",
       "0         297  Eleição Geral Federal 2018  07/10/2018         1   \n",
       "1         297  Eleição Geral Federal 2018  07/10/2018         1   \n",
       "2         297  Eleição Geral Federal 2018  07/10/2018         1   \n",
       "\n",
       "  TP_PRESTACAO_CONTAS     ...     DS_CARGO_CANDIDATO_DOADOR  \\\n",
       "0               Final     ...               Vice-governador   \n",
       "1               Final     ...               Vice-governador   \n",
       "2               Final     ...                    Governador   \n",
       "\n",
       "   NR_PARTIDO_DOADOR SG_PARTIDO_DOADOR NM_PARTIDO_DOADOR  \\\n",
       "0                 43                PV     Partido Verde   \n",
       "1                 43                PV     Partido Verde   \n",
       "2                 43                PV     Partido Verde   \n",
       "\n",
       "        NR_RECIBO_DOACAO  NR_DOCUMENTO_DOACAO  SQ_RECEITA  DT_RECEITA  \\\n",
       "0                 #NULO#               702437    12216154  05/11/2018   \n",
       "1                 #NULO#               694076    12216153  29/10/2018   \n",
       "2  000430300000MS000005E               #NULO#    12317815  17/08/2018   \n",
       "\n",
       "                                          DS_RECEITA  VR_RECEITA  \n",
       "0                                             #NULO#       29,00  \n",
       "1                                             #NULO#     1795,00  \n",
       "2  CESSÃO DE USO DO ESPAÇO FÍSICO DO SEU IMÓVEL P...     1500,00  \n",
       "\n",
       "[3 rows x 57 columns]"
      ]
     },
     "execution_count": 53,
     "metadata": {},
     "output_type": "execute_result"
    }
   ],
   "source": [
    "df_receitas_tse.head(3)"
   ]
  },
  {
   "cell_type": "code",
   "execution_count": 54,
   "metadata": {
    "scrolled": false
   },
   "outputs": [
    {
     "data": {
      "text/plain": [
       "Index(['DT_GERACAO', 'HH_GERACAO', 'ANO_ELEICAO', 'CD_TIPO_ELEICAO',\n",
       "       'NM_TIPO_ELEICAO', 'CD_ELEICAO', 'DS_ELEICAO', 'DT_ELEICAO', 'ST_TURNO',\n",
       "       'TP_PRESTACAO_CONTAS', 'DT_PRESTACAO_CONTAS', 'SQ_PRESTADOR_CONTAS',\n",
       "       'SG_UF', 'SG_UE', 'NM_UE', 'NR_CNPJ_PRESTADOR_CONTA', 'CD_CARGO',\n",
       "       'DS_CARGO', 'SQ_CANDIDATO', 'NR_CANDIDATO', 'NM_CANDIDATO',\n",
       "       'NR_CPF_CANDIDATO', 'NR_CPF_VICE_CANDIDATO', 'NR_PARTIDO', 'SG_PARTIDO',\n",
       "       'NM_PARTIDO', 'CD_FONTE_RECEITA', 'DS_FONTE_RECEITA',\n",
       "       'CD_ORIGEM_RECEITA', 'DS_ORIGEM_RECEITA', 'CD_NATUREZA_RECEITA',\n",
       "       'DS_NATUREZA_RECEITA', 'CD_ESPECIE_RECEITA', 'DS_ESPECIE_RECEITA',\n",
       "       'CD_CNAE_DOADOR', 'DS_CNAE_DOADOR', 'NR_CPF_CNPJ_DOADOR', 'NM_DOADOR',\n",
       "       'NM_DOADOR_RFB', 'CD_ESFERA_PARTIDARIA_DOADOR',\n",
       "       'DS_ESFERA_PARTIDARIA_DOADOR', 'SG_UF_DOADOR', 'CD_MUNICIPIO_DOADOR',\n",
       "       'NM_MUNICIPIO_DOADOR', 'SQ_CANDIDATO_DOADOR', 'NR_CANDIDATO_DOADOR',\n",
       "       'CD_CARGO_CANDIDATO_DOADOR', 'DS_CARGO_CANDIDATO_DOADOR',\n",
       "       'NR_PARTIDO_DOADOR', 'SG_PARTIDO_DOADOR', 'NM_PARTIDO_DOADOR',\n",
       "       'NR_RECIBO_DOACAO', 'NR_DOCUMENTO_DOACAO', 'SQ_RECEITA', 'DT_RECEITA',\n",
       "       'DS_RECEITA', 'VR_RECEITA'],\n",
       "      dtype='object')"
      ]
     },
     "execution_count": 54,
     "metadata": {},
     "output_type": "execute_result"
    }
   ],
   "source": [
    "df_receitas_tse.columns"
   ]
  },
  {
   "cell_type": "code",
   "execution_count": 55,
   "metadata": {},
   "outputs": [],
   "source": [
    "# Filtrando apenas recursos de pessoas físicas\n",
    "\n",
    "df_receitas_tse = df_receitas_tse[df_receitas_tse['DS_ORIGEM_RECEITA'] == 'Recursos de pessoas físicas']"
   ]
  },
  {
   "cell_type": "code",
   "execution_count": 56,
   "metadata": {},
   "outputs": [],
   "source": [
    "# Ajustando cpf do doador\n",
    "df_receitas_tse['NR_CPF_CNPJ_DOADOR'] = df_receitas_tse['NR_CPF_CNPJ_DOADOR'].apply(lambda x: '0'*(14 - len(str(x))) + str(x))\n"
   ]
  },
  {
   "cell_type": "code",
   "execution_count": 57,
   "metadata": {},
   "outputs": [],
   "source": [
    "# Ajustando valor\n",
    "df_receitas_tse['VR_RECEITA'] = df_receitas_tse['VR_RECEITA'].apply(lambda x: float(x.replace(',', '.')))\n"
   ]
  },
  {
   "cell_type": "code",
   "execution_count": 58,
   "metadata": {},
   "outputs": [],
   "source": [
    "# Ajustando CPF do candidato\n",
    "df_receitas_tse['NR_CPF_CANDIDATO'] = df_receitas_tse['NR_CPF_CANDIDATO'].apply(lambda x: '0'*(11 - len(str(x))) + str(x))"
   ]
  },
  {
   "cell_type": "markdown",
   "metadata": {},
   "source": [
    "### 2. Criando tabelas agregadas, candidato x doador e deputado x empresa"
   ]
  },
  {
   "cell_type": "code",
   "execution_count": 59,
   "metadata": {},
   "outputs": [],
   "source": [
    "df_cota_agregado = df_cota_leg_2019[['cpf_ajustado', 'txNomeParlamentar', 'txtCNPJCPF', 'txtFornecedor', 'vlrLiquido']].\\\n",
    "                   groupby(['cpf_ajustado', 'txNomeParlamentar', 'txtCNPJCPF', 'txtFornecedor']).sum().reset_index()\n"
   ]
  },
  {
   "cell_type": "code",
   "execution_count": 60,
   "metadata": {},
   "outputs": [
    {
     "data": {
      "text/html": [
       "<div>\n",
       "<style scoped>\n",
       "    .dataframe tbody tr th:only-of-type {\n",
       "        vertical-align: middle;\n",
       "    }\n",
       "\n",
       "    .dataframe tbody tr th {\n",
       "        vertical-align: top;\n",
       "    }\n",
       "\n",
       "    .dataframe thead th {\n",
       "        text-align: right;\n",
       "    }\n",
       "</style>\n",
       "<table border=\"1\" class=\"dataframe\">\n",
       "  <thead>\n",
       "    <tr style=\"text-align: right;\">\n",
       "      <th></th>\n",
       "      <th>cpf_ajustado</th>\n",
       "      <th>txNomeParlamentar</th>\n",
       "      <th>txtCNPJCPF</th>\n",
       "      <th>txtFornecedor</th>\n",
       "      <th>vlrLiquido</th>\n",
       "    </tr>\n",
       "  </thead>\n",
       "  <tbody>\n",
       "    <tr>\n",
       "      <th>0</th>\n",
       "      <td>00001608657</td>\n",
       "      <td>Stefano Aguiar</td>\n",
       "      <td>00000000000006</td>\n",
       "      <td>RAMAL</td>\n",
       "      <td>1641.69</td>\n",
       "    </tr>\n",
       "    <tr>\n",
       "      <th>1</th>\n",
       "      <td>00001608657</td>\n",
       "      <td>Stefano Aguiar</td>\n",
       "      <td>00000000000007</td>\n",
       "      <td>CORREIOS - CAIXA DE ENCOMENDAS BÁSICA/CONVENCI...</td>\n",
       "      <td>29.05</td>\n",
       "    </tr>\n",
       "    <tr>\n",
       "      <th>2</th>\n",
       "      <td>00001608657</td>\n",
       "      <td>Stefano Aguiar</td>\n",
       "      <td>00000000000007</td>\n",
       "      <td>CORREIOS - CARTA COMERCIAL</td>\n",
       "      <td>654.00</td>\n",
       "    </tr>\n",
       "  </tbody>\n",
       "</table>\n",
       "</div>"
      ],
      "text/plain": [
       "  cpf_ajustado txNomeParlamentar      txtCNPJCPF  \\\n",
       "0  00001608657    Stefano Aguiar  00000000000006   \n",
       "1  00001608657    Stefano Aguiar  00000000000007   \n",
       "2  00001608657    Stefano Aguiar  00000000000007   \n",
       "\n",
       "                                       txtFornecedor  vlrLiquido  \n",
       "0                                              RAMAL     1641.69  \n",
       "1  CORREIOS - CAIXA DE ENCOMENDAS BÁSICA/CONVENCI...       29.05  \n",
       "2                         CORREIOS - CARTA COMERCIAL      654.00  "
      ]
     },
     "execution_count": 60,
     "metadata": {},
     "output_type": "execute_result"
    }
   ],
   "source": [
    "df_cota_agregado.head(3)"
   ]
  },
  {
   "cell_type": "code",
   "execution_count": 61,
   "metadata": {},
   "outputs": [],
   "source": [
    "df_receitas_tse_agregado = df_receitas_tse[['NR_CPF_CNPJ_DOADOR', 'NM_DOADOR_RFB', 'NR_CPF_CANDIDATO', 'NM_CANDIDATO', 'VR_RECEITA']].\\\n",
    "                           groupby(['NR_CPF_CNPJ_DOADOR', 'NM_DOADOR_RFB', 'NR_CPF_CANDIDATO', 'NM_CANDIDATO']).sum().reset_index()\n"
   ]
  },
  {
   "cell_type": "code",
   "execution_count": 62,
   "metadata": {},
   "outputs": [
    {
     "data": {
      "text/html": [
       "<div>\n",
       "<style scoped>\n",
       "    .dataframe tbody tr th:only-of-type {\n",
       "        vertical-align: middle;\n",
       "    }\n",
       "\n",
       "    .dataframe tbody tr th {\n",
       "        vertical-align: top;\n",
       "    }\n",
       "\n",
       "    .dataframe thead th {\n",
       "        text-align: right;\n",
       "    }\n",
       "</style>\n",
       "<table border=\"1\" class=\"dataframe\">\n",
       "  <thead>\n",
       "    <tr style=\"text-align: right;\">\n",
       "      <th></th>\n",
       "      <th>NR_CPF_CNPJ_DOADOR</th>\n",
       "      <th>NM_DOADOR_RFB</th>\n",
       "      <th>NR_CPF_CANDIDATO</th>\n",
       "      <th>NM_CANDIDATO</th>\n",
       "      <th>VR_RECEITA</th>\n",
       "    </tr>\n",
       "  </thead>\n",
       "  <tbody>\n",
       "    <tr>\n",
       "      <th>0</th>\n",
       "      <td>00000000000000</td>\n",
       "      <td>#NULO#</td>\n",
       "      <td>22333843349</td>\n",
       "      <td>ANA CLAUDIA CALLOU MATOS</td>\n",
       "      <td>80.0</td>\n",
       "    </tr>\n",
       "    <tr>\n",
       "      <th>1</th>\n",
       "      <td>00000000000001</td>\n",
       "      <td>#NULO#</td>\n",
       "      <td>85989746768</td>\n",
       "      <td>PATRICIA MESSINA MEDEIROS</td>\n",
       "      <td>100.0</td>\n",
       "    </tr>\n",
       "    <tr>\n",
       "      <th>2</th>\n",
       "      <td>00000000000002</td>\n",
       "      <td>#NULO#</td>\n",
       "      <td>85989746768</td>\n",
       "      <td>PATRICIA MESSINA MEDEIROS</td>\n",
       "      <td>50.0</td>\n",
       "    </tr>\n",
       "  </tbody>\n",
       "</table>\n",
       "</div>"
      ],
      "text/plain": [
       "  NR_CPF_CNPJ_DOADOR NM_DOADOR_RFB NR_CPF_CANDIDATO  \\\n",
       "0     00000000000000        #NULO#      22333843349   \n",
       "1     00000000000001        #NULO#      85989746768   \n",
       "2     00000000000002        #NULO#      85989746768   \n",
       "\n",
       "                NM_CANDIDATO  VR_RECEITA  \n",
       "0   ANA CLAUDIA CALLOU MATOS        80.0  \n",
       "1  PATRICIA MESSINA MEDEIROS       100.0  \n",
       "2  PATRICIA MESSINA MEDEIROS        50.0  "
      ]
     },
     "execution_count": 62,
     "metadata": {},
     "output_type": "execute_result"
    }
   ],
   "source": [
    "df_receitas_tse_agregado.head(3)"
   ]
  },
  {
   "cell_type": "markdown",
   "metadata": {},
   "source": [
    "### 3. Testando hipótese (empresa doadora é beneficiária de recursos da cota)"
   ]
  },
  {
   "cell_type": "code",
   "execution_count": 63,
   "metadata": {},
   "outputs": [],
   "source": [
    "df_ocorrencias = df_cota_agregado.merge(df_receitas_tse_agregado[['NR_CPF_CNPJ_DOADOR', 'NR_CPF_CANDIDATO', 'VR_RECEITA']],\\\n",
    "                                        how = 'inner', left_on = ['cpf_ajustado', 'txtCNPJCPF'], right_on = ['NR_CPF_CANDIDATO', 'NR_CPF_CNPJ_DOADOR'])\n"
   ]
  },
  {
   "cell_type": "code",
   "execution_count": 64,
   "metadata": {},
   "outputs": [
    {
     "data": {
      "text/html": [
       "<div>\n",
       "<style scoped>\n",
       "    .dataframe tbody tr th:only-of-type {\n",
       "        vertical-align: middle;\n",
       "    }\n",
       "\n",
       "    .dataframe tbody tr th {\n",
       "        vertical-align: top;\n",
       "    }\n",
       "\n",
       "    .dataframe thead th {\n",
       "        text-align: right;\n",
       "    }\n",
       "</style>\n",
       "<table border=\"1\" class=\"dataframe\">\n",
       "  <thead>\n",
       "    <tr style=\"text-align: right;\">\n",
       "      <th></th>\n",
       "      <th>cpf_ajustado</th>\n",
       "      <th>txNomeParlamentar</th>\n",
       "      <th>txtCNPJCPF</th>\n",
       "      <th>txtFornecedor</th>\n",
       "      <th>vlrLiquido</th>\n",
       "      <th>NR_CPF_CNPJ_DOADOR</th>\n",
       "      <th>NR_CPF_CANDIDATO</th>\n",
       "      <th>VR_RECEITA</th>\n",
       "    </tr>\n",
       "  </thead>\n",
       "  <tbody>\n",
       "    <tr>\n",
       "      <th>0</th>\n",
       "      <td>01739396782</td>\n",
       "      <td>Silvia Cristina</td>\n",
       "      <td>00019103743268</td>\n",
       "      <td>MARINETE CALIMAN FRANCISCO</td>\n",
       "      <td>143000.00</td>\n",
       "      <td>00019103743268</td>\n",
       "      <td>01739396782</td>\n",
       "      <td>500.0</td>\n",
       "    </tr>\n",
       "    <tr>\n",
       "      <th>1</th>\n",
       "      <td>02112481770</td>\n",
       "      <td>David Soares</td>\n",
       "      <td>00022002077860</td>\n",
       "      <td>LUCAS JOSE VIEIRA</td>\n",
       "      <td>1023.45</td>\n",
       "      <td>00022002077860</td>\n",
       "      <td>02112481770</td>\n",
       "      <td>7120.0</td>\n",
       "    </tr>\n",
       "  </tbody>\n",
       "</table>\n",
       "</div>"
      ],
      "text/plain": [
       "  cpf_ajustado txNomeParlamentar      txtCNPJCPF               txtFornecedor  \\\n",
       "0  01739396782   Silvia Cristina  00019103743268  MARINETE CALIMAN FRANCISCO   \n",
       "1  02112481770      David Soares  00022002077860           LUCAS JOSE VIEIRA   \n",
       "\n",
       "   vlrLiquido NR_CPF_CNPJ_DOADOR NR_CPF_CANDIDATO  VR_RECEITA  \n",
       "0   143000.00     00019103743268      01739396782       500.0  \n",
       "1     1023.45     00022002077860      02112481770      7120.0  "
      ]
     },
     "execution_count": 64,
     "metadata": {},
     "output_type": "execute_result"
    }
   ],
   "source": [
    "df_ocorrencias"
   ]
  },
  {
   "cell_type": "markdown",
   "metadata": {},
   "source": [
    "Os resultdos acima foram os únicos 2 registros identificados em que o CPF que doou para a campanha do deputado vem recebendo recursos do mesmo deputado via cota parlamentar."
   ]
  },
  {
   "cell_type": "code",
   "execution_count": null,
   "metadata": {},
   "outputs": [],
   "source": []
  }
 ],
 "metadata": {
  "kernelspec": {
   "display_name": "Python 3",
   "language": "python",
   "name": "python3"
  },
  "language_info": {
   "codemirror_mode": {
    "name": "ipython",
    "version": 3
   },
   "file_extension": ".py",
   "mimetype": "text/x-python",
   "name": "python",
   "nbconvert_exporter": "python",
   "pygments_lexer": "ipython3",
   "version": "3.7.1"
  }
 },
 "nbformat": 4,
 "nbformat_minor": 2
}
